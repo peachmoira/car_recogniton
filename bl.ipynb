{
 "cells": [
  {
   "cell_type": "code",
   "execution_count": 1,
   "id": "7a5d1f32",
   "metadata": {},
   "outputs": [],
   "source": [
    "#models\n",
    "yolo_path = 'models/yolov5s-2021-12-14.pt'"
   ]
  },
  {
   "cell_type": "code",
   "execution_count": 2,
   "id": "5b3e7a92",
   "metadata": {
    "scrolled": true
   },
   "outputs": [],
   "source": [
    "import os\n",
    "import sys\n",
    "import cv2\n",
    "from yolo.yolovDetect import Detector"
   ]
  },
  {
   "cell_type": "code",
   "execution_count": 3,
   "id": "7c6f86bc",
   "metadata": {},
   "outputs": [
    {
     "name": "stderr",
     "output_type": "stream",
     "text": [
      "YOLOv5 🚀 baf5281 torch 1.11.0+cu102 CUDA:0 (NVIDIA GeForce RTX 2060 SUPER, 7974MiB)\n",
      "\n",
      "Fusing layers... \n",
      "Model summary: 270 layers, 7022326 parameters, 0 gradients\n"
     ]
    }
   ],
   "source": [
    "detector = Detector()\n",
    "detector.load_model(yolo_path)"
   ]
  },
  {
   "cell_type": "code",
   "execution_count": 4,
   "id": "7c1d5360",
   "metadata": {},
   "outputs": [],
   "source": [
    "img_path = 'mashina.jpg'\n",
    "img = cv2.imread(img_path)\n",
    "img = img[..., ::-1]"
   ]
  },
  {
   "cell_type": "code",
   "execution_count": 5,
   "id": "41a2f5d0",
   "metadata": {},
   "outputs": [
    {
     "name": "stdout",
     "output_type": "stream",
     "text": [
      "[[1015.0, 557.0, 1144.0, 601.0, 0.9351606, 0.0]]\n"
     ]
    }
   ],
   "source": [
    "targetBoxes = detector.detect_bbox(img)\n",
    "print(targetBoxes)\n",
    "\n",
    "zones = []\n",
    "regionNames = []\n",
    "for targetBox in targetBoxes:\n",
    "    x = int(min(targetBox[0], targetBox[2]))\n",
    "    w = int(abs(targetBox[2] - targetBox[0]))\n",
    "    y = int(min(targetBox[1], targetBox[3]))\n",
    "    h = int(abs(targetBox[3] - targetBox[1]))\n",
    "\n",
    "    image_part = img[y:y + h, x:x + w]\n",
    "    zones.append(image_part)\n",
    "    regionNames.append('kz')"
   ]
  },
  {
   "cell_type": "code",
   "execution_count": null,
   "id": "3ea9506e",
   "metadata": {},
   "outputs": [],
   "source": []
  }
 ],
 "metadata": {
  "kernelspec": {
   "display_name": "Python 3 (ipykernel)",
   "language": "python",
   "name": "python3"
  },
  "language_info": {
   "codemirror_mode": {
    "name": "ipython",
    "version": 3
   },
   "file_extension": ".py",
   "mimetype": "text/x-python",
   "name": "python",
   "nbconvert_exporter": "python",
   "pygments_lexer": "ipython3",
   "version": "3.8.10"
  }
 },
 "nbformat": 4,
 "nbformat_minor": 5
}